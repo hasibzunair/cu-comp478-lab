{
  "nbformat": 4,
  "nbformat_minor": 0,
  "metadata": {
    "colab": {
      "name": "Tutorial3COMP478.ipynb",
      "provenance": [],
      "collapsed_sections": []
    },
    "kernelspec": {
      "name": "python3",
      "display_name": "Python 3"
    }
  },
  "cells": [
    {
      "cell_type": "markdown",
      "metadata": {
        "id": "ZqZGn8oN2iXA"
      },
      "source": [
        "**Import Python modules**"
      ]
    },
    {
      "cell_type": "code",
      "metadata": {
        "id": "mWSbOq9PiIwi"
      },
      "source": [
        "import matplotlib.pyplot as plt\n",
        "import numpy as np\n",
        "import cv2\n",
        "from google.colab.patches import cv2_imshow\n",
        "import os\n",
        "\n",
        "print(cv2.__version__, cv2.__spec__)\n",
        "#print(cv2.getBuildInformation())"
      ],
      "execution_count": null,
      "outputs": []
    },
    {
      "cell_type": "markdown",
      "metadata": {
        "id": "hZ1Fu5bP2u47"
      },
      "source": [
        "**Mount Google Drive: First mount and authenticate yourself with the following code**"
      ]
    },
    {
      "cell_type": "code",
      "metadata": {
        "id": "ITgXw9wKhzm-"
      },
      "source": [
        "from google.colab import drive\n",
        "drive.mount('/content/drive')"
      ],
      "execution_count": null,
      "outputs": []
    },
    {
      "cell_type": "code",
      "metadata": {
        "id": "TBKKhcXBkr7M"
      },
      "source": [
        "# After executing the cell above, Drive\n",
        "# files will be present in \"/content/drive/My Drive\".\n",
        "#Second change your current folder to point working folder My Drive\n",
        "os.chdir(\"/content/drive/My Drive/\")\n",
        "#os.listdir()"
      ],
      "execution_count": null,
      "outputs": []
    },
    {
      "cell_type": "markdown",
      "metadata": {
        "id": "9eQtWr4x3E1t"
      },
      "source": [
        "**Image Operations: Blending**"
      ]
    },
    {
      "cell_type": "code",
      "metadata": {
        "id": "npjlMmufiDtd"
      },
      "source": [
        "I1 = cv2.imread('./images/boat.png') \n",
        "I2 = cv2.imread('./images/cameraman.png') \n",
        "\n",
        "# # resize image\n",
        "# resized = cv2.resize(I, (256, 256), interpolation = cv2.INTER_AREA)\n",
        "# #print('Resized Dimensions : ',resized.shape)\n",
        "# cv2.imwrite('gato.png', resized)\n",
        "\n",
        "#J = cv2.add(I1, I2)\n",
        "#J = cv2.subtract(I1, I2)\n",
        "#J = cv2.absdiff(I1, I2)\n",
        "#J = cv2.multiply(I1, I2)\n",
        "#J = cv2.divide(I1, I2)\n",
        "J = cv2.addWeighted(I1,0.7,I2,0.3,0) \n",
        "#J = cv2.bitwise_and(I1, I2)\n",
        "#J = cv2.bitwise_or(I1, I2)\n",
        "\n",
        "plt.figure('Image blending') \n",
        "plt.subplot(131), plt.imshow(I1), plt.axis('off') \n",
        "plt.subplot(132), plt.imshow(I2), plt.axis('off') \n",
        "plt.subplot(133), plt.imshow(J), plt.axis('off') \n",
        "plt.tight_layout(pad=.2) \n",
        "plt.show()"
      ],
      "execution_count": null,
      "outputs": []
    },
    {
      "cell_type": "markdown",
      "metadata": {
        "id": "GbVs7aXyoJ_J"
      },
      "source": [
        "**Spatial Transformations**"
      ]
    },
    {
      "cell_type": "code",
      "metadata": {
        "id": "P8CFMWxuiw5l"
      },
      "source": [
        "I = cv2.imread('./images/head.png')  \n",
        "\n",
        "#Image negatives s=T(r)=L-1-r\n",
        "# Subtract the img from max value(calculated from dtype)\n",
        "I_neg = 255 - I \n",
        "plt.figure('Image Negative') \n",
        "plt.subplot(121), plt.imshow(I), plt.axis('off') \n",
        "plt.subplot(122), plt.imshow(I_neg), plt.axis('off') \n",
        "plt.tight_layout(pad=.2) \n",
        "plt.show()"
      ],
      "execution_count": null,
      "outputs": []
    },
    {
      "cell_type": "code",
      "metadata": {
        "id": "GoLx23aci4-l"
      },
      "source": [
        "# Log transformation. \n",
        "c = 255/(np.log(1 + np.max(I)))  \n",
        "I_log = c * np.log(1 + I)  \n",
        "# Specify the data type. \n",
        "I_log = np.array(I_log, dtype = np.uint8)  \n",
        "plt.figure('Log transformation') \n",
        "plt.subplot(121), plt.imshow(I), plt.axis('off') \n",
        "plt.subplot(122), plt.imshow(I_log), plt.axis('off')\n",
        "plt.tight_layout(pad=.2) \n",
        "plt.show()"
      ],
      "execution_count": null,
      "outputs": []
    },
    {
      "cell_type": "code",
      "metadata": {
        "id": "VSaVFSdei7c1"
      },
      "source": [
        "#Power-Law (Gamma) Transformation\n",
        "# Trying 4 gamma values. \n",
        "#gamma in [0.1, 0.5, 1.2, 2.2]: \n",
        "# Apply gamma correction. \n",
        "gamma = 1.2\n",
        "I_gamma = np.array(255*(I / 255) ** gamma, dtype = 'uint8')  \n",
        "plt.figure('Power-Law (Gamma) Transformation') \n",
        "plt.subplot(121), plt.imshow(I), plt.axis('off') \n",
        "plt.subplot(122), plt.imshow(I_gamma), plt.axis('off') \n",
        "plt.tight_layout(pad=.2) \n",
        "plt.show()"
      ],
      "execution_count": null,
      "outputs": []
    },
    {
      "cell_type": "markdown",
      "metadata": {
        "id": "X-p7ZDmwpkcc"
      },
      "source": [
        "**Piece-wise Linear Transformations**"
      ]
    },
    {
      "cell_type": "code",
      "metadata": {
        "id": "o_Z3sBAZjCq6"
      },
      "source": [
        "# Function to map each intensity level to output intensity level. \n",
        "def pixelVal(pix, r1, s1, r2, s2):  \n",
        "  if (0 <= pix and pix <= r1):  \n",
        "    return (s1 / r1)*pix  \n",
        "  elif (r1 < pix and pix <= r2):  \n",
        "    return ((s2 - s1)/(r2 - r1)) * (pix - r1) + s1  \n",
        "  else:  \n",
        "    return ((255 - s2)/(255 - r2)) * (pix - r2) + s2  \n",
        "    \n",
        "# Define parameters. \n",
        "r1 = 70 \n",
        "s1 = 0 \n",
        "r2 = 140 \n",
        "s2 = 255 \n",
        "# Vectorize the function to apply it to each value in the Numpy array. \n",
        "pixelVal_vec = np.vectorize(pixelVal)  \n",
        "# Apply contrast stretching. \n",
        "I_contrast_stretched = pixelVal_vec(I, r1, s1, r2, s2)  \n",
        "plt.figure('Piece-wise Linear Transformation') \n",
        "plt.subplot(121), plt.imshow(I), plt.axis('off') \n",
        "plt.subplot(122), plt.imshow(I_contrast_stretched), plt.axis('off') \n",
        "plt.tight_layout(pad=.2) \n",
        "plt.show() "
      ],
      "execution_count": null,
      "outputs": []
    },
    {
      "cell_type": "markdown",
      "metadata": {
        "id": "f9g7xWOTp4cH"
      },
      "source": [
        "**Image Histogram**"
      ]
    },
    {
      "cell_type": "code",
      "metadata": {
        "id": "mX044NyqjD_a"
      },
      "source": [
        "##OpenCV follows BGR order, while plt follows RGB order\n",
        "I = cv2.imread('./images/fruits.png')\n",
        "I = cv2.cvtColor(I, cv2.COLOR_BGR2RGB) \n",
        "J = cv2.cvtColor(I, cv2.COLOR_BGR2GRAY)\n",
        " \n",
        "plt.figure('Color and grascale images') \n",
        "plt.subplot(121), plt.imshow(I), plt.title('Color image '),  \n",
        "plt.axis('off') \n",
        "plt.subplot(122), plt.imshow(J, cmap ='gray'), plt.title('Grayscale image'),  \n",
        "plt.axis('off') \n",
        "plt.tight_layout() \n",
        "plt.show()"
      ],
      "execution_count": null,
      "outputs": []
    },
    {
      "cell_type": "code",
      "metadata": {
        "id": "KkYoUiNPqG40"
      },
      "source": [
        "#Image histogram\n",
        "h = cv2.calcHist([J],[0],None,[256],[0,256]) \n",
        "#h = cv2.normalize(h, h).flatten()\n",
        "plt.plot(h) \n",
        "plt.title('Histogram for grayscale image') \n",
        "plt.tight_layout() \n",
        "plt.show()"
      ],
      "execution_count": null,
      "outputs": []
    },
    {
      "cell_type": "code",
      "metadata": {
        "id": "yksCuU6pq1bI"
      },
      "source": [
        "#color histogram\n",
        "color = ('r','g','b') \n",
        "for channel,col in enumerate(color):    \n",
        "  h = cv2.calcHist([I],[channel],None,[256],[0,256]) \n",
        "  #h = cv2.normalize(h, h).flatten()   \n",
        "  plt.plot(h,color = col)    \n",
        "  plt.xlim([0,256]) \n",
        "plt.title('Histogram for color image') \n",
        "plt.tight_layout() \n",
        "plt.show()"
      ],
      "execution_count": null,
      "outputs": []
    },
    {
      "cell_type": "code",
      "metadata": {
        "id": "H6_8Mf8-rFUX"
      },
      "source": [
        "# alternative way to compute histogram of an image\n",
        "plt.figure('Image histogram2') \n",
        "I = cv2.imread('./images/chat.png') \n",
        "plt.hist(I.ravel(),256,[0,256]) \n",
        "plt.show() "
      ],
      "execution_count": null,
      "outputs": []
    },
    {
      "cell_type": "markdown",
      "metadata": {
        "id": "B6imYxLYr8AO"
      },
      "source": [
        "**Histogram Equalization**"
      ]
    },
    {
      "cell_type": "code",
      "metadata": {
        "id": "ofGOh1PFr-ve"
      },
      "source": [
        "J_equalized = cv2.equalizeHist(J) \n",
        "plt.subplot(121), plt.imshow(J, cmap ='gray'), \n",
        "plt.axis('off') \n",
        "plt.subplot(122), plt.imshow(J_equalized, cmap ='gray'), \n",
        "plt.axis('off') \n",
        "plt.tight_layout(pad=.2) \n",
        "plt.show() \n",
        "\n",
        "plt.hist(J_equalized.ravel(),256,[0,256]) \n",
        "plt.show()"
      ],
      "execution_count": null,
      "outputs": []
    },
    {
      "cell_type": "markdown",
      "metadata": {
        "id": "5aeOLFNDsO3p"
      },
      "source": [
        "**Image noise model**"
      ]
    },
    {
      "cell_type": "code",
      "metadata": {
        "id": "sPJo3Y22sIG7"
      },
      "source": [
        "I = cv2.imread('./images/fruits.png') \n",
        "I = cv2.cvtColor(I, cv2.COLOR_BGR2RGB) \n",
        "# Generate Gaussian noise\n",
        "noise = np.random.normal(0,1,I.size) \n",
        "noise = noise.reshape(I.shape[0],I.shape[1],I.shape[2]).astype('uint8') \n",
        "# Add the Gaussian noise to the image\n",
        "I_noisy = cv2.add(I,noise) \n",
        "plt.figure('Image noise') \n",
        "plt.subplot(131), plt.imshow(I), plt.axis('off') \n",
        "plt.subplot(132), plt.imshow(noise), plt.axis('off') \n",
        "plt.subplot(133), plt.imshow(I_noisy), plt.axis('off') \n",
        "plt.tight_layout(pad=-1) \n",
        "plt.show() \n",
        "\n",
        "# plt.figure('Image noisy')\n",
        "# Ic = cv2.hconcat([I,noise,I_noisy])\n",
        "# plt.imshow(Ic), plt.axis('off')\n",
        "# plt.show()"
      ],
      "execution_count": null,
      "outputs": []
    },
    {
      "cell_type": "code",
      "metadata": {
        "id": "r7gah4IYsfpC"
      },
      "source": [
        ""
      ],
      "execution_count": null,
      "outputs": []
    }
  ]
}